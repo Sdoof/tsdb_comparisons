{
 "cells": [
  {
   "cell_type": "code",
   "execution_count": 85,
   "metadata": {
    "collapsed": false,
    "deletable": true,
    "editable": true
   },
   "outputs": [],
   "source": [
    "import timeit\n",
    "import pytz\n",
    "import glob\n",
    "import pandas as pd\n",
    "import matplotlib\n",
    "import numpy as np\n",
    "import matplotlib.pyplot as plt\n",
    "%matplotlib inline\n",
    "matplotlib.rcParams['figure.figsize'] = (16,6)"
   ]
  },
  {
   "cell_type": "markdown",
   "metadata": {},
   "source": [
    "Here I compare several databases for suitability of storing financial timeseries. I'm examining this from a point of view typical of the workflow of a quantitative researcher. Specifically, I'm interested in reading loads of data from the database, and then analysing it with Pandas.\n",
    "\n",
    "I use historical forex ticks from Pepperstone, which used to be freely available to download. Their dataset is about 30GB of zipped CSV files, organized by month.\n",
    "\n",
    "https://www.pepperstone.com/en/client-resources/historical-tick-data\n",
    "\n",
    "In this post, I evaluate Arctic, kdb+(32bit), Cassandra. InfluxDB looks to have made significant progress in the last few years, and the Apache Parquet/Arrow looks *extremely* interesting -- and Wes McKinney (of Pandas fame) is heavily involved in development there. Given what [I've read](http://wesmckinney.com/blog/python-parquet-multithreading/), Parquet/Arrow/Pandas2.0 should be a complete slam dunk for this use-case when available, however I will leave that InfluxDB for later, in the interest of time and brevity.\n",
    "\n",
    "\n",
    "\n",
    "# The Data\n",
    "I'm looking at three years worth of tick level data on the AUD/USD pair. This is about 133 million rows, and about 3GB once stored in a dataframe. I'm deliberately keeping it under 4GB so we can fairly evaluate kdb+, as the free version (32bit) is limited to about 4GB of memory. I did this all on a laptop with 16GB of RAM. Despite the dataframe only taking up around 3GB, Python often ended up asking for up to 20+GB of memory. "
   ]
  },
  {
   "cell_type": "code",
   "execution_count": 11,
   "metadata": {
    "collapsed": false
   },
   "outputs": [
    {
     "name": "stdout",
     "output_type": "stream",
     "text": [
      "Raw data has 133.047743 million rows and takes up 3045.22116852 megabytes.\n"
     ]
    }
   ],
   "source": [
    "# Load the raw data\n",
    "all_files = glob.glob(\"./raw_data/*.csv\")\n",
    "raw = pd.concat((pd.read_csv(f, header=None, names=[\"symbol\",\"date\",\"bid\",\"ask\"]).drop(\"symbol\", 1) for f in all_files))\n",
    "\n",
    "raw[\"date\"] = pd.to_datetime(raw[\"date\"])\n",
    "raw = raw.set_index(\"date\").tz_localize(pytz.utc)\n",
    "\n",
    "# Save some information about how much data we have.\n",
    "num_rows = len(raw)\n",
    "num_bytes = raw.memory_usage().sum()\n",
    "\n",
    "print(\"Raw data has %s million rows and takes up %s megabytes.\" % (num_rows/1000000, num_bytes/1024/1024))"
   ]
  },
  {
   "cell_type": "markdown",
   "metadata": {
    "deletable": true,
    "editable": true
   },
   "source": [
    "# Data Ingestion\n",
    "\n",
    "### Arctic\n",
    "[Arctic](http://github.com/manahl/arctic) is a \"High performance datastore for time series and tick data\", built by the rather large hedge fund Man AHL and built on MongoDB. Generally speaking, I have avoided MongoDB in the past because, well, [it doesn't do what it says on the tin](https://aphyr.com/posts/322-jepsen-mongodb-stale-reads). This seems to have been [fixed](https://jepsen.io/analyses/mongodb-3-4-0-rc3), and in fairness, it's not too important if you lose a handful out of a few billion rows of timeseries data.\n",
    "\n",
    "Great video RE design: https://vimeo.com/album/3660528/video/145842301\n",
    "It's attractive how focused Arctic seems to be on working with Pandas\n",
    "\n",
    "\n",
    "Arctic expects to be able to read port '27017', so spin up that container with:\n",
    "`sudo docker-compose up -d mongo`\n",
    "\n",
    "\n",
    "CHUNKSTORE OR TICKSTORE?\n",
    "According to [this issue](https://github.com/manahl/arctic/issues/197), the TickStore is best for continuously reading/writing data (ticks), and the ChunkStore is best for writing large blocks at once. Arctic's authors use Kafka to queue and batch-write ~3 hours worth of ticks, I believe as a ChunkStore. I'll be working with the ChunkStore, though I briefly tested the TickStore and it is definitely not appropriate. Many firms use the same approach with KDB, i.e. aggregating ticks in memory, and writing down to disk every few hours."
   ]
  },
  {
   "cell_type": "code",
   "execution_count": 90,
   "metadata": {
    "collapsed": false,
    "deletable": true,
    "editable": true
   },
   "outputs": [],
   "source": [
    "from arctic import CHUNK_STORE\n",
    "from arctic import Arctic\n",
    "\n",
    "# Initialize Arctic\n",
    "arctic_db = Arctic('localhost')\n",
    "arctic_db.initialize_library(\"fx_chunkstore\", lib_type=CHUNK_STORE)\n",
    "arctic_chunk_lib = arctic_db[\"fx_chunkstore\"]"
   ]
  },
  {
   "cell_type": "code",
   "execution_count": 39,
   "metadata": {
    "collapsed": false,
    "deletable": true,
    "editable": true
   },
   "outputs": [],
   "source": [
    "# Benchmark functions\n",
    "def insert_to_arctic(df):\n",
    "    arctic_chunk_lib.delete(\"AUDUSD\")\n",
    "    arctic_chunk_lib.write(\"AUDUSD\", df)\n",
    "    \n",
    "\n",
    "def read_from_arctic():\n",
    "    return arctic_chunk_lib.read(\"AUDUSD\")"
   ]
  },
  {
   "cell_type": "markdown",
   "metadata": {},
   "source": [
    "I'd like to see how performance scales with the number of rows, so lets make a graph."
   ]
  },
  {
   "cell_type": "code",
   "execution_count": 91,
   "metadata": {
    "collapsed": false,
    "deletable": true,
    "editable": true
   },
   "outputs": [],
   "source": [
    "num_rows = []\n",
    "write_speeds = []\n",
    "read_speeds = []\n",
    "\n",
    "# Plot performance up to 10m rows in 500k increments.\n",
    "df = None\n",
    "for i in range(500000, 5000000, 500000):\n",
    "    df = raw[:i]\n",
    "    num_rows.append(i)\n",
    "    write_speeds.append( (timeit.timeit('insert_to_arctic(df)', 'from __main__ import insert_to_arctic, df', number=5)/5) )\n",
    "    read_speeds.append( (timeit.timeit('read_from_arctic()', 'from __main__ import read_from_arctic, df', number=5)/5) )\n"
   ]
  },
  {
   "cell_type": "code",
   "execution_count": 92,
   "metadata": {
    "collapsed": false,
    "deletable": true,
    "editable": true
   },
   "outputs": [
    {
     "data": {
      "image/png": "[encoded data removed]",
      "text/plain": [
       "<matplotlib.figure.Figure at 0x10bed8710>"
      ]
     },
     "metadata": {},
     "output_type": "display_data"
    }
   ],
   "source": [
    "plt.plot(num_rows, write_speeds, 'r--', label=\"Write\")\n",
    "plt.plot(num_rows, read_speeds, 'b--', label=\"Read\")\n",
    "plt.legend()\n",
    "plt.title(\"Performance in Rows/Sec\")\n",
    "plt.xlabel(\"Rows\")\n",
    "plt.ylabel(\"Seconds\")\n",
    "plt.xticks(rotation=45)\n",
    "plt.show()"
   ]
  },
  {
   "cell_type": "code",
   "execution_count": null,
   "metadata": {
    "collapsed": false
   },
   "outputs": [],
   "source": []
  },
  {
   "cell_type": "code",
   "execution_count": null,
   "metadata": {
    "collapsed": true
   },
   "outputs": [],
   "source": []
  }
 ],
 "metadata": {
  "kernelspec": {
   "display_name": "Python 3",
   "language": "python",
   "name": "python3"
  },
  "language_info": {
   "codemirror_mode": {
    "name": "ipython",
    "version": 3
   },
   "file_extension": ".py",
   "mimetype": "text/x-python",
   "name": "python",
   "nbconvert_exporter": "python",
   "pygments_lexer": "ipython3",
   "version": "3.5.1"
  }
 },
 "nbformat": 4,
 "nbformat_minor": 0
}
